{
 "cells": [
  {
   "cell_type": "markdown",
   "metadata": {
    "run_control": {
     "frozen": false,
     "read_only": false
    }
   },
   "source": [
    "**1D Non-linear Convection Equation**"
   ]
  },
  {
   "cell_type": "code",
   "execution_count": 1,
   "metadata": {
    "ExecuteTime": {
     "end_time": "2017-01-10T22:10:14.029214",
     "start_time": "2017-01-10T22:10:13.372406"
    },
    "collapsed": true,
    "run_control": {
     "frozen": false,
     "read_only": false
    }
   },
   "outputs": [],
   "source": [
    "from __future__ import division\n",
    "from casadi import *\n",
    "import numpy\n",
    "from matplotlib import pyplot\n",
    "%matplotlib inline\n",
    "from matplotlib import rcParams\n",
    "rcParams['font.family'] = 'serif'\n",
    "rcParams['font.size'] = 16\n",
    "#from scipy.sparse import diags\n",
    "from scipy.sparse import csc_matrix"
   ]
  },
  {
   "cell_type": "code",
   "execution_count": 2,
   "metadata": {
    "ExecuteTime": {
     "end_time": "2017-01-10T22:10:15.854566",
     "start_time": "2017-01-10T22:10:15.851087"
    },
    "collapsed": true,
    "run_control": {
     "frozen": false,
     "read_only": false
    }
   },
   "outputs": [],
   "source": [
    "L = 2\n",
    "nx = 5"
   ]
  },
  {
   "cell_type": "code",
   "execution_count": 37,
   "metadata": {
    "ExecuteTime": {
     "end_time": "2017-01-07T16:20:30.254736",
     "start_time": "2017-01-07T16:20:30.250918"
    },
    "collapsed": false,
    "run_control": {
     "frozen": false,
     "read_only": false
    }
   },
   "outputs": [],
   "source": [
    "#print numpy.concatenate([numpy.linspace(0,nx-2,nx-1),numpy.linspace(1,nx-2,nx-2),numpy.linspace(0,nx-3,nx-2)])\n",
    "#print numpy.concatenate([numpy.linspace(0,nx-2,nx-1),numpy.linspace(0,nx-3,nx-2),numpy.linspace(1,nx-2,nx-2)])"
   ]
  },
  {
   "cell_type": "code",
   "execution_count": 38,
   "metadata": {
    "ExecuteTime": {
     "end_time": "2017-01-07T16:20:30.278079",
     "start_time": "2017-01-07T16:20:30.262760"
    },
    "collapsed": false,
    "run_control": {
     "frozen": false,
     "read_only": false
    }
   },
   "outputs": [],
   "source": [
    "#A = MX.sym('A',Sparsity.banded(nx-1,1)) #tri-diagonal matrix\n",
    "Amatrix_data = numpy.hstack((-2*numpy.ones(nx-1),numpy.ones(nx-2),numpy.ones(nx-2)))\n",
    "Amatrix_rows = numpy.concatenate([numpy.linspace(0,nx-2,nx-1),numpy.linspace(1,nx-2,nx-2),numpy.linspace(0,nx-3,nx-2)])\n",
    "Amatrix_cols = numpy.concatenate([numpy.linspace(0,nx-2,nx-1),numpy.linspace(0,nx-3,nx-2),numpy.linspace(1,nx-2,nx-2)])\n",
    "A = MX(csc_matrix((Amatrix_data, (Amatrix_rows, Amatrix_cols)), shape=(nx-1, nx-1)))\n",
    "b = numpy.zeros(nx-1)\n",
    "b[0] = 1 #Left BC\n",
    "b[-1] = 1 # Right BC"
   ]
  },
  {
   "cell_type": "code",
   "execution_count": 39,
   "metadata": {
    "ExecuteTime": {
     "end_time": "2017-01-07T16:20:30.290152",
     "start_time": "2017-01-07T16:20:30.280570"
    },
    "collapsed": false,
    "run_control": {
     "frozen": false,
     "read_only": false
    }
   },
   "outputs": [],
   "source": [
    "x = numpy.linspace(0,L,nx+1)"
   ]
  },
  {
   "cell_type": "code",
   "execution_count": 40,
   "metadata": {
    "ExecuteTime": {
     "end_time": "2017-01-07T16:20:30.308839",
     "start_time": "2017-01-07T16:20:30.299835"
    },
    "collapsed": true,
    "run_control": {
     "frozen": false,
     "read_only": false
    }
   },
   "outputs": [],
   "source": [
    "nu = MX.sym('nu')"
   ]
  },
  {
   "cell_type": "code",
   "execution_count": 41,
   "metadata": {
    "ExecuteTime": {
     "end_time": "2017-01-07T16:20:30.333306",
     "start_time": "2017-01-07T16:20:30.322973"
    },
    "collapsed": false,
    "run_control": {
     "frozen": false,
     "read_only": false
    }
   },
   "outputs": [],
   "source": [
    "u = MX.sym('u',nx-1) "
   ]
  },
  {
   "cell_type": "code",
   "execution_count": 42,
   "metadata": {
    "ExecuteTime": {
     "end_time": "2017-01-07T16:20:30.346016",
     "start_time": "2017-01-07T16:20:30.338901"
    },
    "collapsed": true,
    "run_control": {
     "frozen": false,
     "read_only": false
    }
   },
   "outputs": [],
   "source": [
    "dx = MX.sym('dx')"
   ]
  },
  {
   "cell_type": "code",
   "execution_count": 43,
   "metadata": {
    "ExecuteTime": {
     "end_time": "2017-01-07T16:20:30.362159",
     "start_time": "2017-01-07T16:20:30.354000"
    },
    "collapsed": false,
    "run_control": {
     "frozen": false,
     "read_only": false
    }
   },
   "outputs": [],
   "source": [
    "ode = (nu/(dx**2.0))*(mtimes(A,u) + b)"
   ]
  },
  {
   "cell_type": "code",
   "execution_count": 44,
   "metadata": {
    "ExecuteTime": {
     "end_time": "2017-01-07T16:20:30.374307",
     "start_time": "2017-01-07T16:20:30.367343"
    },
    "collapsed": false,
    "run_control": {
     "frozen": false,
     "read_only": false
    }
   },
   "outputs": [],
   "source": [
    "dae = {'x':u,'p':vertcat(nu,dx),'ode':ode}"
   ]
  },
  {
   "cell_type": "code",
   "execution_count": 45,
   "metadata": {
    "ExecuteTime": {
     "end_time": "2017-01-07T16:20:30.388982",
     "start_time": "2017-01-07T16:20:30.379669"
    },
    "collapsed": false,
    "run_control": {
     "frozen": false,
     "read_only": false
    }
   },
   "outputs": [],
   "source": [
    "dx_numerical = L/nx\n",
    "nu_numerical = 0.3\n",
    "dt_limit = 0.5*dx_numerical**2/nu_numerical"
   ]
  },
  {
   "cell_type": "code",
   "execution_count": 46,
   "metadata": {
    "ExecuteTime": {
     "end_time": "2017-01-07T16:20:30.407949",
     "start_time": "2017-01-07T16:20:30.397816"
    },
    "collapsed": false,
    "run_control": {
     "frozen": false,
     "read_only": false
    }
   },
   "outputs": [],
   "source": [
    "dt = 0.4*dt_limit  # choose a safety factor for CFL condition\n",
    "nt = 50\n",
    "tend = dt*nt\n",
    "ts = numpy.linspace(0,tend,tend/dt)"
   ]
  },
  {
   "cell_type": "code",
   "execution_count": 47,
   "metadata": {
    "ExecuteTime": {
     "end_time": "2017-01-07T16:20:30.424586",
     "start_time": "2017-01-07T16:20:30.415080"
    },
    "collapsed": true,
    "run_control": {
     "frozen": false,
     "read_only": false
    }
   },
   "outputs": [],
   "source": [
    "opts = {}\n",
    "opts[\"fsens_err_con\"] = True\n",
    "opts[\"quad_err_con\"] = True\n",
    "opts[\"abstol\"] = 1e-6\n",
    "opts[\"reltol\"] = 1e-6\n",
    "opts[\"t0\"] = 0\n",
    "opts[\"tf\"] = tend\n",
    "opts[\"grid\"] = ts\n",
    "opts[\"output_t0\"] = True"
   ]
  },
  {
   "cell_type": "code",
   "execution_count": 48,
   "metadata": {
    "ExecuteTime": {
     "end_time": "2017-01-07T16:20:30.437227",
     "start_time": "2017-01-07T16:20:30.429896"
    },
    "collapsed": false,
    "run_control": {
     "frozen": false,
     "read_only": false
    }
   },
   "outputs": [],
   "source": [
    "F = integrator(\"F\",\"cvodes\",dae,opts)"
   ]
  },
  {
   "cell_type": "code",
   "execution_count": 49,
   "metadata": {
    "ExecuteTime": {
     "end_time": "2017-01-07T16:20:30.448198",
     "start_time": "2017-01-07T16:20:30.441968"
    },
    "collapsed": false,
    "run_control": {
     "frozen": false,
     "read_only": false
    }
   },
   "outputs": [],
   "source": [
    "u0 = numpy.ones(nx-1) \n",
    "u0[numpy.intersect1d(numpy.where(x >= 0.5), numpy.where(x <= 1))] = 2 #Initial condition"
   ]
  },
  {
   "cell_type": "code",
   "execution_count": 61,
   "metadata": {
    "ExecuteTime": {
     "end_time": "2017-01-07T16:22:19.135552",
     "start_time": "2017-01-07T16:22:18.923512"
    },
    "collapsed": false,
    "run_control": {
     "frozen": false,
     "read_only": false
    }
   },
   "outputs": [
    {
     "data": {
      "image/png": "[encoded data removed]",
      "text/plain": [
       "<matplotlib.figure.Figure at 0x7ff494abe150>"
      ]
     },
     "metadata": {},
     "output_type": "display_data"
    }
   ],
   "source": [
    "pyplot.plot(x, numpy.insert(u0,[0,-1],[b[0],b[-1]]), color='#003366', ls='-', lw=3)\n",
    "pyplot.ylim(0,2.5);"
   ]
  },
  {
   "cell_type": "code",
   "execution_count": 51,
   "metadata": {
    "ExecuteTime": {
     "end_time": "2017-01-07T16:20:30.815205",
     "start_time": "2017-01-07T16:20:30.804776"
    },
    "collapsed": false,
    "run_control": {
     "frozen": false,
     "read_only": false
    }
   },
   "outputs": [],
   "source": [
    "sol = F(x0 = u0, p = (nu_numerical,dx_numerical))"
   ]
  },
  {
   "cell_type": "code",
   "execution_count": 52,
   "metadata": {
    "ExecuteTime": {
     "end_time": "2017-01-07T16:20:30.832435",
     "start_time": "2017-01-07T16:20:30.825522"
    },
    "collapsed": false,
    "run_control": {
     "frozen": false,
     "read_only": false
    }
   },
   "outputs": [],
   "source": [
    "sol = sol['xf'].full().T"
   ]
  },
  {
   "cell_type": "code",
   "execution_count": 53,
   "metadata": {
    "ExecuteTime": {
     "end_time": "2017-01-07T16:20:30.845528",
     "start_time": "2017-01-07T16:20:30.837949"
    },
    "collapsed": true,
    "run_control": {
     "frozen": false,
     "read_only": false
    }
   },
   "outputs": [],
   "source": [
    "u = numpy.insert(sol,[0,nx-1],[b[0],b[-1]],axis=1)"
   ]
  },
  {
   "cell_type": "code",
   "execution_count": 54,
   "metadata": {
    "ExecuteTime": {
     "end_time": "2017-01-07T16:20:30.854824",
     "start_time": "2017-01-07T16:20:30.848333"
    },
    "collapsed": false,
    "run_control": {
     "frozen": false,
     "read_only": false
    }
   },
   "outputs": [],
   "source": [
    "ufinal = numpy.insert(sol[nt-1,:],[0,-1],[b[0],b[-1]])\n",
    "#numpy.insert(u0,[0,-1],[b[0],b[-1]])"
   ]
  },
  {
   "cell_type": "code",
   "execution_count": 62,
   "metadata": {
    "ExecuteTime": {
     "end_time": "2017-01-07T16:22:22.913170",
     "start_time": "2017-01-07T16:22:22.677964"
    },
    "collapsed": false,
    "run_control": {
     "frozen": false,
     "read_only": false
    }
   },
   "outputs": [
    {
     "data": {
      "image/png": "[encoded data removed]",
      "text/plain": [
       "<matplotlib.figure.Figure at 0x7ff494adac50>"
      ]
     },
     "metadata": {},
     "output_type": "display_data"
    }
   ],
   "source": [
    "pyplot.plot(x, u[nt-1,:], color='#003366', ls='-', lw=3)\n",
    "pyplot.ylim(0,2.5);"
   ]
  },
  {
   "cell_type": "code",
   "execution_count": null,
   "metadata": {
    "collapsed": true,
    "run_control": {
     "frozen": false,
     "read_only": false
    }
   },
   "outputs": [],
   "source": []
  }
 ],
 "metadata": {
  "hide_input": false,
  "kernelspec": {
   "display_name": "Python 2",
   "language": "python",
   "name": "python2"
  },
  "language_info": {
   "codemirror_mode": {
    "name": "ipython",
    "version": 2
   },
   "file_extension": ".py",
   "mimetype": "text/x-python",
   "name": "python",
   "nbconvert_exporter": "python",
   "pygments_lexer": "ipython2",
   "version": "2.7.12+"
  },
  "latex_envs": {
   "LaTeX_envs_menu_present": true,
   "bibliofile": "biblio.bib",
   "cite_by": "apalike",
   "current_citInitial": 1,
   "eqLabelWithNumbers": true,
   "eqNumInitial": 1,
   "labels_anchors": false,
   "latex_user_defs": false,
   "report_style_numbering": false,
   "user_envs_cfg": false
  },
  "toc": {
   "colors": {
    "hover_highlight": "#DAA520",
    "running_highlight": "#FF0000",
    "selected_highlight": "#FFD700"
   },
   "moveMenuLeft": true,
   "nav_menu": {
    "height": "12px",
    "width": "252px"
   },
   "navigate_menu": true,
   "number_sections": true,
   "sideBar": true,
   "threshold": 4,
   "toc_cell": false,
   "toc_section_display": "block",
   "toc_window_display": false
  }
 },
 "nbformat": 4,
 "nbformat_minor": 2
}
