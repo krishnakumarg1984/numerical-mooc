{
 "cells": [
  {
   "cell_type": "code",
   "execution_count": 1,
   "metadata": {
    "ExecuteTime": {
     "end_time": "2017-01-07T16:14:01.250108",
     "start_time": "2017-01-07T16:14:00.654474"
    },
    "collapsed": true,
    "run_control": {
     "frozen": false,
     "read_only": false
    }
   },
   "outputs": [],
   "source": [
    "%matplotlib inline\n",
    "import numpy as np\n",
    "import matplotlib.pyplot as plt\n",
    "\n",
    "from matplotlib import animation, rc\n",
    "from IPython.display import HTML"
   ]
  },
  {
   "cell_type": "code",
   "execution_count": 2,
   "metadata": {
    "ExecuteTime": {
     "end_time": "2017-01-07T16:14:01.484392",
     "start_time": "2017-01-07T16:14:01.253049"
    },
    "collapsed": false,
    "run_control": {
     "frozen": false,
     "read_only": false
    }
   },
   "outputs": [
    {
     "data": {
      "image/png": "[encoded data removed]",
      "text/plain": [
       "<matplotlib.figure.Figure at 0x7f8458ff5810>"
      ]
     },
     "metadata": {},
     "output_type": "display_data"
    }
   ],
   "source": [
    "# First set up the figure, the axis, and the plot element we want to animate\n",
    "fig, ax = plt.subplots()\n",
    "\n",
    "ax.set_xlim(( 0, 2))\n",
    "ax.set_ylim((-2, 2))\n",
    "\n",
    "line, = ax.plot([], [], lw=2)"
   ]
  },
  {
   "cell_type": "code",
   "execution_count": 3,
   "metadata": {
    "ExecuteTime": {
     "end_time": "2017-01-07T16:14:01.493837",
     "start_time": "2017-01-07T16:14:01.487608"
    },
    "collapsed": true,
    "run_control": {
     "frozen": false,
     "read_only": false
    }
   },
   "outputs": [],
   "source": [
    "# initialization function: plot the background of each frame\n",
    "def init():\n",
    "    line.set_data([], [])\n",
    "    return (line,)"
   ]
  },
  {
   "cell_type": "code",
   "execution_count": 4,
   "metadata": {
    "ExecuteTime": {
     "end_time": "2017-01-07T16:14:01.523236",
     "start_time": "2017-01-07T16:14:01.497963"
    },
    "collapsed": true,
    "run_control": {
     "frozen": false,
     "read_only": false
    }
   },
   "outputs": [],
   "source": [
    "# animation function. This is called sequentially\n",
    "def animate(i):\n",
    "    x = np.linspace(0, 2, 1000)\n",
    "    y = np.sin(2 * np.pi * (x - 0.01 * i))\n",
    "    line.set_data(x, y)\n",
    "    return (line,)"
   ]
  },
  {
   "cell_type": "code",
   "execution_count": 5,
   "metadata": {
    "ExecuteTime": {
     "end_time": "2017-01-07T16:14:01.627875",
     "start_time": "2017-01-07T16:14:01.535162"
    },
    "collapsed": true,
    "run_control": {
     "frozen": false,
     "read_only": false
    }
   },
   "outputs": [],
   "source": [
    "anim = animation.FuncAnimation(fig, animate, init_func=init,\n",
    "                               frames=100, interval=20, blit=True)"
   ]
  },
  {
   "cell_type": "code",
   "execution_count": 6,
   "metadata": {
    "ExecuteTime": {
     "end_time": "2017-01-07T16:14:10.304494",
     "start_time": "2017-01-07T16:14:01.633942"
    },
    "collapsed": false,
    "run_control": {
     "frozen": false,
     "read_only": false
    }
   },
   "outputs": [
    {
     "data": {
      "text/html": [
       "<video width=\"600.0\" height=\"400.0\" controls autoplay loop>\n",
       "  <source type=\"video/mp4\" src=\"data:video/mp4;base64,AAAAHGZ0eXBNNFYgAAACAGlzb21pc28yYXZjMQAAAAhmcmVlAACmg21kYXQAAAKuBgX//6rcRem9\n",
       "5tlIt5Ys2CDZI+7veDI2NCAtIGNvcmUgMTQ4IHIyNjk5IGE1ZTA2YjkgLSBILjI2NC9NUEVHLTQg\n",
       "QVZDIGNvZGVjIC0gQ29weWxlZnQgMjAwMy0yMDE2IC0gaHR0cDovL3d3dy52aWRlb2xhbi5vcmcv\n",
       "eDI2NC5odG1sIC0gb3B0aW9uczogY2FiYWM9MSByZWY9MyBkZWJsb2NrPTE6MDowIGFuYWx5c2U9\n",
       "MHgzOjB4MTEzIG1lPWhleCBzdWJtZT03IHBzeT0xIHBzeV9yZD0xLjAwOjAuMDAgbWl4ZWRfcmVm\n",
       "PTEgbWVfcmFuZ2U9MTYgY2hyb21hX21lPTEgdHJlbGxpcz0xIDh4OGRjdD0xIGNxbT0wIGRlYWR6\n",
       "b25lPTIxLDExIGZhc3RfcHNraXA9MSBjaHJvbWFfcXBfb2Zmc2V0PS0yIHRocmVhZHM9MyBsb29r\n",
       "YWhlYWRfdGhyZWFkcz0xIHNsaWNlZF90aHJlYWRzPTAgbnI9MCBkZWNpbWF0ZT0xIGludGVybGFj\n",
       "ZWQ9MCBibHVyYXlfY29tcGF0PTAgY29uc3RyYWluZWRfaW50cmE9MCBiZnJhbWVzPTMgYl9weXJh\n",
       "bWlkPTIgYl9hZGFwdD0xIGJfYmlhcz0wIGRpcmVjdD0xIHdlaWdodGI9MSBvcGVuX2dvcD0wIHdl\n",
       "aWdodHA9MiBrZXlpbnQ9MjUwIGtleWludF9taW49MjUgc2NlbmVjdXQ9NDAgaW50cmFfcmVmcmVz\n",
       "aD0wIHJjX2xvb2thaGVhZD00MCByYz1jcmYgbWJ0cmVlPTEgY3JmPTIzLjAgcWNvbXA9MC42MCBx\n",
       "cG1pbj0wIHFwbWF4PTY5IHFwc3RlcD00IGlwX3JhdGlvPTEuNDAgYXE9MToxLjAwAIAAABfXZYiE\n",
       "AC///vau/MsrRwuVLh1Ze7NR8uhJcv2IMH1oAAADAAADAAAm4qJnRYUx4myAAAAvk3tnqzJgV1iA\n",
       "JoWZ/njSIo4HM00qC/XlwpSPj0yECzl2+zXi9hSPn1Fo13XpWCaZiVmOBKppMM+1xJpcLMXYmOmN\n",
       "Bb0iwPqezSYaUebxw61A5RrCb9DVScblIgfsn0e4WCBBM2jpaaAlRcly8TT+Wa3vZeIkT3Dda3gf\n",
       "X++xpsoHBIPsGhqtRCQHikcVgpNljCudrJi4uZW5Ltfr8+Z3S7SI089lVFHujOTHB1/JdE7Q+YNB\n",
       "yLp/HBj9ZzANKRSXwBgCLDqqSptNACTXe2HCcv0DqZEewBCpZhyHNuJGkCaLMq7wxdp/3hW54qji\n",
       "Jw7BXWP8dyN/APlP/UaEXxMJctVkq/er1sMxC9NYBlyhg6IZSmPor6NmhFB7uli9F0PDVXRQGo8G\n",
       "SeXq4hmSX2OBgQ4zbgERIHGV27d4fOKoa72H62NrsQ5f+s9pcKfcyZs4nYlWS9LNaJ35NlPlE66t\n",
       "dHhi/lqX2NRk3KYoQAEsp66RXP1SJCsE8xQqwnD/ON2S9ByD2a3qtZMvPIgHKTQF6WT6aLZPUWMI\n",
       "g8emiEU3+0TDECPuxbZW8/mZFkMVDgYlxJzlc6AMvYKbktLqLfalRumkGIFl4gQcT1Ewe6e2gFWX\n",
       "AFWAVW52wvEZgf/B/jgVD9tCldURauT4o9WqF/xqRV+/H/Eikwq9bYe18u8mcwyDU+ByXkpA2PAc\n",
       "cpNwNfaGzgvTTjng4DbdeYJhy2Kqy5jxwoD7+Iso1Ze8LKUejCKyzfIsI3xO+ODTBqOtXc4pppEa\n",
       "cBAlWnAIsPqbLVUZeX/OGijU2XGOv1paxHqVXwY9SKqFjhGz+Se+4vOcFsvUzVfBcte6k4Ew8pny\n",
       "4i/p8jPI5TrTz7jGY/RejYnHAzfq0APXC2jh/IStrotBgzc4ekVS+UsUY5X+Y/uoNxgpqXnMv3R5\n",
       "T0D4qXgEn7tgSDNOWrZuqCwHcuhFLErQs63Iq35trIIClpbD3nSOSXLopKqrwKrhI4Gvt/f0Y2Yj\n",
       "J9HSbU/4WNXaetMZtuuURaj/Nj+9TmZwF0PdfTF2YTZEw6f3gBzUlIy8qJlsmLlPOTHD7NDu4BEW\n",
       "O7y6tlMoJGQ/0Qr42gtU4q2wFJIbVYlWHSEJ1RN5fdCEJO6BihLN3FDUQv1Ieg9Zh+3nfPsvs/Ft\n",
       "o7VFgfo7o06smRXypbWQCTcX1VjSFkdUFoLaxVqt1nEQ9oHlZfsJNe/9gW59Uom6atjT0XHbN8Vs\n",
       "JTPawa7T2ejmAb8ehiXVAtPCJxX/HPjU4YHYcmxp8o40/+YGYm1q/zjbmhAg8PLQ8uObxaO/lIoK\n",
       "oiX5kMi4NFMeKyJp95fEhXTSo4b7D1bH9yf9h07emi3Jm/4b2OUS7OonWf88SM2Dmk+sduDOQRUS\n",
       "AFvxk5ok1xMdH/viMjnQrP4ZwXOSTzD4Go9XHl4mpcObjsyeZabQppURipC29EGOjebBf28w7Zt5\n",
       "7XZKwHUpNsrFK3nHazj+wCYogOgQJeQSJVASY8/OyY/5xT0Hl0J3ceipyL+KfGMQExa+d9HKXmBp\n",
       "tedh9bqLyqlkXn2YK/o1pexca4l3trIwW74VwL3NV2vfNo2M3dm9bsaHq5qP1w/r0kJ4qsH8a+YO\n",
       "IWBBfEEIfzFgmh8H5Cpg5PxnZmdWmqwnsxyq+FCJrEM9fy+rm1cihAk4lfKPOp2VNPTtGiVzirV1\n",
       "TPf3JDqMn+Swdk4+raX7qIFmNNjhZxMUf6X3mw6ZROm8UnoDzvumzeswyhyI67GbKRscuRCnMoNO\n",
       "TcmswbnzNrIvDc8kijXN8k/lQNpDzKz1PCgKtycjQoEltWIHeQID1fO8zmtmYay7L1rDGUThsR+y\n",
       "eboI8Aijv6j3fm5IViFONAhJ1FXsCWnr78WJHpjup8OUsE1hc34G53CmJ2grudLXLgV+wCIxqtIz\n",
       "uTtabx6DySlNcB8UPoE+EdwriGXwMr/gPM8pveHVS9fNo22n8daiUo1uvu2ryWS4Rz+lKgCAL2QC\n",
       "X531f0DIqnSiSFUOdzcaG7JcdDBnKRzuC7ndjDXfvX3RZ8EgA1AtiLIZwZyDFtuYI4j/IzgxFFP/\n",
       "hkLb69F0hKnrmDCUqpcuoKhWofDF8pW7qJm5Xb5Fabu0P3l85JBAuUgUp3gbGIJo5JCtkrNP1M/R\n",
       "QxyaYXMoxaM403a3n2/PMnLJhlkzJJ8pOktzMn+pzy/N9iwri/0f2E6GAIPT+5c34cPtbjn1fjEm\n",
       "+8Xe8Ky1I+1N5Mp2LlKzM8aqbElxvXavS/1vZYpkOzPBHojaQFWACewwdYNPPdU/4U7Fh0nGDin0\n",
       "nVQLUXjgONsF4uorzXwxT4Y+2xbbFyudZfwQfVNyChUso2dPBhy8lmQXcZ8V5+habHvS6omr+1pB\n",
       "EurYh/CRecsTtg1cMdmQzis2wtRWVRvVL2jt2u7ZHF/f4LT+BTcy0SwzY5F1Z8MZm1meNLgYE2k2\n",
       "CO44JiTSR08GDPb/03tk9TWpsVLYGLYZ3SRC9FLecHPAuBbqlUfzYq9rUK8leLBJIQPjhXtlT9GI\n",
       "w1X8dkvmG+2b26r2fWmjd66hA7yQEvO0Qd+2IokAAdsgtZdqGX3ThUMC5KgmxuzlHK4luHWYqAdh\n",
       "/UjJ3gAxNQI6zJIKCA7k6wiphLTCZqHlbh4kxWNphWR0PfS69im9D1bq6vXHeSoCpYZqRH4R1Cvz\n",
       "Q6HzcN48DdVStd2B9FwfYf0jZuDpDB19LMupmeNdXyyNaxqcE/nhy3YhSyYBbFfdbCKrd7AIz2Ux\n",
       "qYtob6Zx8pGXg9mt0dOpJuhqEXgxhXcXnoYz42aE1AgX+Xj1s8GvtHkHdDPso2JF+mFHYf+yf6iH\n",
       "ZAAU+x4qGLKsTyMU7K+Ap1U6+6IWkBf/657xDRB8JFUyYQYAgvMbLvjdeTJX2KQis1sKubTUG0Zj\n",
       "+T3qgRm1VyqqV1xgNKsA3Y/mozVDJBGF9i2hYtBTvymUo6qByqSoWAYDMkYSDay3Gk4LeCjTOa1x\n",
       "RmEBvdAufxn60mtW5+hqa9ipAtENXLOYQCSJZbgISJoiCziBZ6e9NvG7rr8Fnw385ir8h+ATfVzm\n",
       "YguZ5evJf9W8mKrX95rniEtvuxt1lS/2BLrmqfQWF6OZ0jRHYq3wt9sLU3l7zlAdoYtMyAXsmrNi\n",
       "8rNnfnL7Quu8iQ8DAWV29EdP1ujicvwLMjJ/cRB5yyJ5TylrycVEBdF/J+c7XsM0L5IiD95tNXja\n",
       "zuFAckicmYFIOGZjQ1SCVW0kHaekyfM1vD75JEMOjiG0A2vXv5a9BOjjuGUQ/t9kxftcr5CRQFc0\n",
       "S6bMKjjZYZIwgHAGnQcP1HGpQUrhgSPA/y5tryC1gxgTXxbZoDe6x96YMdnWnMo7Y2ddQxNYIIQc\n",
       "J7lpj/MBy5qYXx1OP9AgEjERbUXDX0iKr5ZbUBOADaV6iXqgFNGVF/k5pU1rMPcb/z+gky8JgTn/\n",
       "3t0JP7teDZM0/EztoWhNNfQMZsNm3IPxSxIoPnul8meOXLLDeJ1ol9ese7ltOGuNq1anrE66Lvl2\n",
       "CKeBSfy5+xanZqJCqUqEG7jnnvQWG7dwBFVGqe87tlni3jt9rlH5Lwq8hfLRueL/DrzOtw1RqW1k\n",
       "ZP6FiiO/oFBLB8H2v0Z7BrMORIjdU7NvdaA6UjGAagoL5SqWUb7QVs5rRYsB/6g/G5GF/W59Wyze\n",
       "DT62//OZEGLjlsYtiRD/LIgja05onIXZ+T2/o9Nc238ZguRTxEH+qrAResuXmQFfviyEGmhdPtIa\n",
       "tTNnYhagZp4rhZA8/g29MQlybGweigN0ldqK3n9E68ioWP1B0VIrhzrmLBCYa9mFIosyACvgJbZi\n",
       "mIRB3mXFSVkxnwJwFhGle3BAdb6WuXlHhstmFbDkewqB9A5OBVVxszSvCiFWkwSYs3YJMxRAAL+v\n",
       "KwWRn7FLvRDRAoG/ogVxdYWAuKN3m3M/emo862TVNl2IEE9nDoOqiHSAT9PYZRpPDDyaVtlYS48d\n",
       "g3JadjjMKGHQ1Ou/MhU0mMzt2XbHVqdACuXxqABm57pdcCLdYuS5w8/XszfCX8Xyr/I1CqPqcCJ3\n",
       "Xi/fboQ//R1V2fBOHALoNeZ04cgr6l0GVblL7wf+gc+kny9m+tF2tJuKLhKj7JstBO/FrlNaANY/\n",
       "mek4wXmzMX/gydBBUsRlDPj3Z9OiQUiteZX+G8m/6bzUwIIMczhVlDHwV6M5Lgw5FVgZEA0tKzRN\n",
       "V2Gv08eR0GcOIpDSPFSif82Aw2PTmUF4wnwMlvyY0U6IIB5ujWvjPzzimF15cXBn7QGk8s1h5aer\n",
       "YxG6G7PzbqKT4fOJkPCL5kzQaiIfqmjhu+oHz9rk+pndlo3VQ+UFvICeAgf0lc7LyrVdUWYkuYkW\n",
       "KXt+XnbP3xbKfmtWxVfMJZCfUYSJg7PEQt0btNa2X1tiOKkBPqz1yMBgrdVczCXOFmv5daphYLVf\n",
       "lXO0jFlMXt943I9l09MbFzXe7Rl8pHp81W7OU5OhcdLTAD1OJ0hWWOuib+Pm1+mAQs881kDoAzBm\n",
       "ZJlxHVHZ3Tq/BME1pD/x4ZLAdLK0OWUtTUspvi90QOjqEtBEwjh2/NjAbSIgJNo94I8kvTkRqs2z\n",
       "LqnulBIYISU0DZG4zPJ5pAZVYlDtYQofk57Bx8FCK+hSUSmpFYiRw8n/vjWD93Ri9H9dZV//eCNH\n",
       "5PeRr340FDMegh4XQABkpJTet5prO9dg7XfeyyVL9htRAjWH3nADyBpKjhsUrJoQBfwXHFgeT/vI\n",
       "DGYI9T+StSCo4cpvHRHB0nzWULePzuztx83e+RKngNlRoVw2ffnfJHlF9tQV1oN6BB/APWgzSn+b\n",
       "a9WqIPDZ/6SxdkehfY+wo1RMMpkJAToCvGA5zZlwFM4kG5ASvmrddKVXMu4Y5nOM1HVkIN/ipZZ/\n",
       "F6cvjmPLBdU/vq4l2GMZ7B6CNxds/Oh4BF2eiDzlM3zrVInZEHdlYVucQDYhPGA8qh/THvkeYHSf\n",
       "NUsWmagADvqtb11idPRV8npG4l9QtoskBZrRSYseAy/c+RjNFsNrJUap3YRCsm3sc48nDqDHCgI2\n",
       "LxYcZSuMPwfd+r0g4zhQYSeRh6ywhKMF8kVM02xS1UhY+2opDu/pWnLHdykBk1pcb3Yqg7R859Lt\n",
       "z1VqUCAE2D1OKQeEkcbnbj8BHHzlaL3jyw9lyAVORKiCImWlyxBKX068G/LYhdS1+g3GfyXjmEjX\n",
       "qNXgbchQ/4d/7Sss7/Lta8NtoFT5gcEFARcDEu+W3iW7Wv0vi5qB8dxQXVMGxlxHS+/HK6JUrDbk\n",
       "ZqfAFz5TPWoADnVrcer6FOw87Qqq3HWHWsZCuOkQ9jXB5V8qvWtcwR/vnhejWua7jjXMlWwBijaz\n",
       "iKaZ0jgPJIE2W3Qrf8XRSO3UYTMjVeVNPfh2Xs3Usj41qswfmXvgW0u4FQi98wqqjv6yEA3zjtx5\n",
       "zvQv1tcH8r9+QMaWPC5QZrCg5GFnBlYG/XtRhmBLYknTAn0ZyFNu1Kt7HoUffpWrfvTS7rv1ttoF\n",
       "9FKnPF5xKBzBy4wpsg9ZZl7o3Fn5B09ZrLuHoO89u3VjZ3qK4m6Ad/ic1S2ORIprZhOdcVOfcQM9\n",
       "DMNSPDfw5niyb+tXZe6SsmugL4xT6MvWxDZgV9j5AnDa+shokVj0qrcGPpeiuTuB74q+KTQgIdTR\n",
       "95DN3EGmvJqCW5x3l3EvSTHG6XnT+4zmi/oRGwncBRh/qWCANp69qjRCQg0O+IflAQWANmapwF6r\n",
       "d9P6PsdLNMlx48jHJdI/jsYEctRK7qMgaAOgdZXGT2c2NXTpgRnLpSHmoTPqNFIzI0MsBP3xAAZV\n",
       "v0It03xHLq0rbV4kflNOe8K+8zip+4oCHKzQa1A5rLdoeM32ae12gJAKQRtIanz9dU0GeuJE07dD\n",
       "utoYy69LqX04qhSdY7SjJ41lRT5VKhn7X1NsAgILSf3H7Jwo/Re4KIfTAelwWGUa5nVUChu9ZhEW\n",
       "m2K43yAcwn/+jIPyxeovVFh9IdrcP2MPvpltAvIqtFclrmjZDcrBDg0vh7T0Ez6fi9Mj738oZ75i\n",
       "klowvToNJzNgyxmx34+M8Tb+Jm1P7XZIv+/q+tiUYKvfBz4dusFAJAeyPxq5wbp65tORLBOUqWUL\n",
       "wgyZs8ZiLX/3ePyZRHFqnfAJYDaHhMYUy+7T/1tRWjEa+sPy4WObu4SNsZpzxBcGeQUEe7QO+Au3\n",
       "JOeP8xeZNuemwhlSUZoTh9SohxL+1IVOAlLFIXgRAz74Dsx6+p6eEsGKG6ZJNZIFo3I8WPyACuli\n",
       "iEZKgoWbeHUTqazy7tPeARyllnqkj1KKOka9m0EYmZJRTq//h8paEnVuq2/RlKV72Jrw53QeuNnq\n",
       "CQ0vckdfd5ke4ahPuZsjKhB3Ao5TysRGNeMGkTxlTDdi6EsqyTmZhU6ZLnFz67Y1ypfcDrYjk1ut\n",
       "eQEApLvbG+2U6zvqprlhgNTTTGJtnYgRbz1MgQSi7TvJ0iSvqQfpiSfmFS0ZnuhyOaFm73qLQsof\n",
       "iqUkSUVdZhxSfo9+/O/SJPI8tRY+KVIOfPyl617ZFNf6xOqJjCepS/js8fM0hLx9dcJNO89xnyN+\n",
       "7yX//UPrMUvJjAcDwtEkatiz2MDFmRbLrXoAFC5PC+nxsgprdrS9nG8aUL9IC265lFGECKzD0viW\n",
       "C7F0CQAmxzSCTLWYmY73UO0ru0SemWYoIVULJJZGhjPxmkRtOWXRKlaOtmT9zPUL4h4RbtWrDzgq\n",
       "6dACCT0GeiQAeeB7I/tz/F5PsU7PJuSi3dodN+nsgCt43nAjWuDxvCgHd/uBv+VuT5wnPRhP00eV\n",
       "jTMFCrRyKPrvKz5Tgbd7YJcZ9x0yRuSfE+bc+s7k++FeyflPmoDJLC//TeTw0+2KF9/lt8puXura\n",
       "W0A5r1eYzCi8tg1sx5TxTa2uN4LrAB61xqSBJn7TCZ18vXsc/F5deXim44yaAAI65m6fxaOZ/LN/\n",
       "FFuz3sbl58doLA8AmFQ3W/68xB828FRArTUxN/GKf1egiZp5nEQOPl0Y90XPLVpuAb7CisVvG+bR\n",
       "0PbtRUwANRvTOAPQWoOb8aXaWDHEqgUVsqXgBtICF7mwHjpEooue8Rg3sBwl1dX5R8gb2vnC6kMR\n",
       "3HUQSkPGPxci0zvZoNy2p4v2nRPyleQLMA+WN+4t1h0MSAZHhJuKufps7sJ1I7s824mhXxys/FUw\n",
       "XYZInkqOI5PJQYSJYrbrRQBA1KR/4luxUkn1CKHJuSV5ffz1lxDx2H84o6pL+/lRMEXq9OjfYDjf\n",
       "2w6XdnnJjrdUxmZ9BOQHLmchFQO3/BfieE9BFUVSKGisokXXsuCamedWVrqAOgXAHWPPuax6v+yE\n",
       "nV3KtRE7W1hWdYD7FgjGzG4LFffT17wmh/NSEJMRK7cref9nSRLJCmyHk5GVtYVHznBj0BADE/dF\n",
       "42V1U+rcB1Wsw76gwk+kfMw5nbFbKeiMEvMetTH/pFCblgy7bk4CsaWb8qmz9Wipy4vlYqSj8wS8\n",
       "wAS/660k68KSqk4htbaBCFxRNq1Wl/BxLQDdzOo5mC/glGeDrZWunASPWIrR4CpJxg7ZbHggc7ZY\n",
       "ZW01j6/wyNdVRG1NXdrkZS/oux808KDFT/vMxUvX7QFsmkIvF6wKlOrXIKjPqbnBoFge/+f547/K\n",
       "pctwEPlnIwh7aCB/u+1wRQ71HMcS0ZjFr/zb1b2nwpuyyN4Nezygj9Mo22rQGV0m+/XkYjJxuOTn\n",
       "5gMpB9WjwX9U5VRTPti2p5lO24u7+7rsq8TtaebihwTx9Q+nAbQfOy1G1wr3QXbo3biD5VPNWX/v\n",
       "Ap92Mv1UV+GEj9GgXDI8u7EgVQ60fGP4g37wXKR72cPN+3QxwnmmiRoMW4zesCvfxsJ3nDcXuSow\n",
       "IawdJpOuZNfMmI56q7MXygaIsc6jBphId7rzVL3g34uqNJeHpu5RF63AVUqLHCdRgwEvgGSTnhCK\n",
       "Y2IshVpwlN1EO1WdsnKdVNq1v0UOEHYQn+yJQjNv0s1wny0sszXkO84YI5Yri/mNtyYcLHm+ifDa\n",
       "mjPEQ/Sgoiol3ULi3vWpZsx5TsSnWQYXDXurGyNZNNpL/wmdSPOtIqxAAB7XneH8iHR0iS06AAAH\n",
       "9QAAAsxBmiRsQv/+jLABvvW8PfUCS06p6Bw6EvhovluMvAGPn9CJAvZaP6r/iGpdiQhROId7FMh8\n",
       "1xdZIDh93uhzqM6KJFBg7Tok43AZIfN4Bcq+ly6ry40Pih1K11ES+9tOZF/UrVOJROJqxi30OnR1\n",
       "MnqZP9couApKfJQXS2FzbXrY+guCttt8et8NxBjZLsRvG7DmOXu16rcAPkq3nYPJS46ShzkvUJkt\n",
       "toPSdz/O7h/+1tqAEp1QeT5GmeEfqKrq75e9lW/IB069/IsHIyu073jW3h9XfvUqUpjFmqnC+Wmd\n",
       "ovMIvthAJDuCs0YO82+O28fM553Uqy41HS1AvfI4ERVor0x50dgEMCVBdjby6s68YEVhqvmHOg1U\n",
       "yftFe1IBDNFU287b1a+gHxW0gwTps1eFSW9cIVgEp+f0qFE03XYkFVe6n9XwxD33B3M8AhqZgVTb\n",
       "8W0Q64eyRM6AlQurdIFlQLyMe/DwB/Wi03g9sct6ptqJdu9gQNpDT8DbC+ebBneJuijiOJ7Mf7sS\n",
       "Hxl0y2Bw/VIfafTNOacUM8WbZTrudC5gu3hOgvxFlqBF16k2p4EqpaZ+9qeT7g6G7RPke0Nt2bkI\n",
       "Dq9Z/8GD2VMK3xR9HBOA4qBzfa/38s"
      ],
      "text/plain": [
       "<IPython.core.display.HTML object>"
      ]
     },
     "execution_count": 6,
     "metadata": {},
     "output_type": "execute_result"
    },
    {
     "data": {
      "text/html": [
       "<b>limit_output extension: Maximum message size of 10000 exceeded with 60314 characters</b>"
      ]
     },
     "metadata": {},
     "output_type": "display_data"
    }
   ],
   "source": [
    "HTML(anim.to_html5_video())"
   ]
  },
  {
   "cell_type": "code",
   "execution_count": 7,
   "metadata": {
    "ExecuteTime": {
     "end_time": "2017-01-07T16:14:10.321535",
     "start_time": "2017-01-07T16:14:10.308460"
    },
    "collapsed": false,
    "run_control": {
     "frozen": false,
     "read_only": false
    }
   },
   "outputs": [
    {
     "name": "stdout",
     "output_type": "stream",
     "text": [
      "[u'imagemagick_file', u'imagemagick', u'ffmpeg', u'ffmpeg_file']\n"
     ]
    }
   ],
   "source": [
    "import matplotlib.animation as animation\n",
    "print(animation.writers.list())"
   ]
  },
  {
   "cell_type": "code",
   "execution_count": 8,
   "metadata": {
    "ExecuteTime": {
     "end_time": "2017-01-07T16:14:10.336034",
     "start_time": "2017-01-07T16:14:10.325406"
    },
    "collapsed": false,
    "run_control": {
     "frozen": false,
     "read_only": false
    }
   },
   "outputs": [
    {
     "data": {
      "text/plain": [
       "True"
      ]
     },
     "execution_count": 8,
     "metadata": {},
     "output_type": "execute_result"
    }
   ],
   "source": [
    "anim._repr_html_() is None"
   ]
  },
  {
   "cell_type": "code",
   "execution_count": 9,
   "metadata": {
    "ExecuteTime": {
     "end_time": "2017-01-07T16:14:10.351509",
     "start_time": "2017-01-07T16:14:10.339547"
    },
    "collapsed": false,
    "run_control": {
     "frozen": false,
     "read_only": false
    }
   },
   "outputs": [
    {
     "data": {
      "text/plain": [
       "<matplotlib.animation.FuncAnimation at 0x7f8458f52cd0>"
      ]
     },
     "execution_count": 9,
     "metadata": {},
     "output_type": "execute_result"
    }
   ],
   "source": [
    "anim"
   ]
  },
  {
   "cell_type": "code",
   "execution_count": 10,
   "metadata": {
    "ExecuteTime": {
     "end_time": "2017-01-07T16:14:10.363489",
     "start_time": "2017-01-07T16:14:10.357019"
    },
    "collapsed": true,
    "run_control": {
     "frozen": false,
     "read_only": false
    }
   },
   "outputs": [],
   "source": [
    "rc('animation', html='html5')"
   ]
  },
  {
   "cell_type": "code",
   "execution_count": 11,
   "metadata": {
    "ExecuteTime": {
     "end_time": "2017-01-07T16:14:10.381875",
     "start_time": "2017-01-07T16:14:10.367292"
    },
    "collapsed": false,
    "run_control": {
     "frozen": false,
     "read_only": false
    }
   },
   "outputs": [
    {
     "data": {
      "text/html": [
       "<video width=\"600.0\" height=\"400.0\" controls autoplay loop>\n",
       "  <source type=\"video/mp4\" src=\"data:video/mp4;base64,AAAAHGZ0eXBNNFYgAAACAGlzb21pc28yYXZjMQAAAAhmcmVlAACmg21kYXQAAAKuBgX//6rcRem9\n",
       "5tlIt5Ys2CDZI+7veDI2NCAtIGNvcmUgMTQ4IHIyNjk5IGE1ZTA2YjkgLSBILjI2NC9NUEVHLTQg\n",
       "QVZDIGNvZGVjIC0gQ29weWxlZnQgMjAwMy0yMDE2IC0gaHR0cDovL3d3dy52aWRlb2xhbi5vcmcv\n",
       "eDI2NC5odG1sIC0gb3B0aW9uczogY2FiYWM9MSByZWY9MyBkZWJsb2NrPTE6MDowIGFuYWx5c2U9\n",
       "MHgzOjB4MTEzIG1lPWhleCBzdWJtZT03IHBzeT0xIHBzeV9yZD0xLjAwOjAuMDAgbWl4ZWRfcmVm\n",
       "PTEgbWVfcmFuZ2U9MTYgY2hyb21hX21lPTEgdHJlbGxpcz0xIDh4OGRjdD0xIGNxbT0wIGRlYWR6\n",
       "b25lPTIxLDExIGZhc3RfcHNraXA9MSBjaHJvbWFfcXBfb2Zmc2V0PS0yIHRocmVhZHM9MyBsb29r\n",
       "YWhlYWRfdGhyZWFkcz0xIHNsaWNlZF90aHJlYWRzPTAgbnI9MCBkZWNpbWF0ZT0xIGludGVybGFj\n",
       "ZWQ9MCBibHVyYXlfY29tcGF0PTAgY29uc3RyYWluZWRfaW50cmE9MCBiZnJhbWVzPTMgYl9weXJh\n",
       "bWlkPTIgYl9hZGFwdD0xIGJfYmlhcz0wIGRpcmVjdD0xIHdlaWdodGI9MSBvcGVuX2dvcD0wIHdl\n",
       "aWdodHA9MiBrZXlpbnQ9MjUwIGtleWludF9taW49MjUgc2NlbmVjdXQ9NDAgaW50cmFfcmVmcmVz\n",
       "aD0wIHJjX2xvb2thaGVhZD00MCByYz1jcmYgbWJ0cmVlPTEgY3JmPTIzLjAgcWNvbXA9MC42MCBx\n",
       "cG1pbj0wIHFwbWF4PTY5IHFwc3RlcD00IGlwX3JhdGlvPTEuNDAgYXE9MToxLjAwAIAAABfXZYiE\n",
       "AC///vau/MsrRwuVLh1Ze7NR8uhJcv2IMH1oAAADAAADAAAm4qJnRYUx4myAAAAvk3tnqzJgV1iA\n",
       "JoWZ/njSIo4HM00qC/XlwpSPj0yECzl2+zXi9hSPn1Fo13XpWCaZiVmOBKppMM+1xJpcLMXYmOmN\n",
       "Bb0iwPqezSYaUebxw61A5RrCb9DVScblIgfsn0e4WCBBM2jpaaAlRcly8TT+Wa3vZeIkT3Dda3gf\n",
       "X++xpsoHBIPsGhqtRCQHikcVgpNljCudrJi4uZW5Ltfr8+Z3S7SI089lVFHujOTHB1/JdE7Q+YNB\n",
       "yLp/HBj9ZzANKRSXwBgCLDqqSptNACTXe2HCcv0DqZEewBCpZhyHNuJGkCaLMq7wxdp/3hW54qji\n",
       "Jw7BXWP8dyN/APlP/UaEXxMJctVkq/er1sMxC9NYBlyhg6IZSmPor6NmhFB7uli9F0PDVXRQGo8G\n",
       "SeXq4hmSX2OBgQ4zbgERIHGV27d4fOKoa72H62NrsQ5f+s9pcKfcyZs4nYlWS9LNaJ35NlPlE66t\n",
       "dHhi/lqX2NRk3KYoQAEsp66RXP1SJCsE8xQqwnD/ON2S9ByD2a3qtZMvPIgHKTQF6WT6aLZPUWMI\n",
       "g8emiEU3+0TDECPuxbZW8/mZFkMVDgYlxJzlc6AMvYKbktLqLfalRumkGIFl4gQcT1Ewe6e2gFWX\n",
       "AFWAVW52wvEZgf/B/jgVD9tCldURauT4o9WqF/xqRV+/H/Eikwq9bYe18u8mcwyDU+ByXkpA2PAc\n",
       "cpNwNfaGzgvTTjng4DbdeYJhy2Kqy5jxwoD7+Iso1Ze8LKUejCKyzfIsI3xO+ODTBqOtXc4pppEa\n",
       "cBAlWnAIsPqbLVUZeX/OGijU2XGOv1paxHqVXwY9SKqFjhGz+Se+4vOcFsvUzVfBcte6k4Ew8pny\n",
       "4i/p8jPI5TrTz7jGY/RejYnHAzfq0APXC2jh/IStrotBgzc4ekVS+UsUY5X+Y/uoNxgpqXnMv3R5\n",
       "T0D4qXgEn7tgSDNOWrZuqCwHcuhFLErQs63Iq35trIIClpbD3nSOSXLopKqrwKrhI4Gvt/f0Y2Yj\n",
       "J9HSbU/4WNXaetMZtuuURaj/Nj+9TmZwF0PdfTF2YTZEw6f3gBzUlIy8qJlsmLlPOTHD7NDu4BEW\n",
       "O7y6tlMoJGQ/0Qr42gtU4q2wFJIbVYlWHSEJ1RN5fdCEJO6BihLN3FDUQv1Ieg9Zh+3nfPsvs/Ft\n",
       "o7VFgfo7o06smRXypbWQCTcX1VjSFkdUFoLaxVqt1nEQ9oHlZfsJNe/9gW59Uom6atjT0XHbN8Vs\n",
       "JTPawa7T2ejmAb8ehiXVAtPCJxX/HPjU4YHYcmxp8o40/+YGYm1q/zjbmhAg8PLQ8uObxaO/lIoK\n",
       "oiX5kMi4NFMeKyJp95fEhXTSo4b7D1bH9yf9h07emi3Jm/4b2OUS7OonWf88SM2Dmk+sduDOQRUS\n",
       "AFvxk5ok1xMdH/viMjnQrP4ZwXOSTzD4Go9XHl4mpcObjsyeZabQppURipC29EGOjebBf28w7Zt5\n",
       "7XZKwHUpNsrFK3nHazj+wCYogOgQJeQSJVASY8/OyY/5xT0Hl0J3ceipyL+KfGMQExa+d9HKXmBp\n",
       "tedh9bqLyqlkXn2YK/o1pexca4l3trIwW74VwL3NV2vfNo2M3dm9bsaHq5qP1w/r0kJ4qsH8a+YO\n",
       "IWBBfEEIfzFgmh8H5Cpg5PxnZmdWmqwnsxyq+FCJrEM9fy+rm1cihAk4lfKPOp2VNPTtGiVzirV1\n",
       "TPf3JDqMn+Swdk4+raX7qIFmNNjhZxMUf6X3mw6ZROm8UnoDzvumzeswyhyI67GbKRscuRCnMoNO\n",
       "TcmswbnzNrIvDc8kijXN8k/lQNpDzKz1PCgKtycjQoEltWIHeQID1fO8zmtmYay7L1rDGUThsR+y\n",
       "eboI8Aijv6j3fm5IViFONAhJ1FXsCWnr78WJHpjup8OUsE1hc34G53CmJ2grudLXLgV+wCIxqtIz\n",
       "uTtabx6DySlNcB8UPoE+EdwriGXwMr/gPM8pveHVS9fNo22n8daiUo1uvu2ryWS4Rz+lKgCAL2QC\n",
       "X531f0DIqnSiSFUOdzcaG7JcdDBnKRzuC7ndjDXfvX3RZ8EgA1AtiLIZwZyDFtuYI4j/IzgxFFP/\n",
       "hkLb69F0hKnrmDCUqpcuoKhWofDF8pW7qJm5Xb5Fabu0P3l85JBAuUgUp3gbGIJo5JCtkrNP1M/R\n",
       "QxyaYXMoxaM403a3n2/PMnLJhlkzJJ8pOktzMn+pzy/N9iwri/0f2E6GAIPT+5c34cPtbjn1fjEm\n",
       "+8Xe8Ky1I+1N5Mp2LlKzM8aqbElxvXavS/1vZYpkOzPBHojaQFWACewwdYNPPdU/4U7Fh0nGDin0\n",
       "nVQLUXjgONsF4uorzXwxT4Y+2xbbFyudZfwQfVNyChUso2dPBhy8lmQXcZ8V5+habHvS6omr+1pB\n",
       "EurYh/CRecsTtg1cMdmQzis2wtRWVRvVL2jt2u7ZHF/f4LT+BTcy0SwzY5F1Z8MZm1meNLgYE2k2\n",
       "CO44JiTSR08GDPb/03tk9TWpsVLYGLYZ3SRC9FLecHPAuBbqlUfzYq9rUK8leLBJIQPjhXtlT9GI\n",
       "w1X8dkvmG+2b26r2fWmjd66hA7yQEvO0Qd+2IokAAdsgtZdqGX3ThUMC5KgmxuzlHK4luHWYqAdh\n",
       "/UjJ3gAxNQI6zJIKCA7k6wiphLTCZqHlbh4kxWNphWR0PfS69im9D1bq6vXHeSoCpYZqRH4R1Cvz\n",
       "Q6HzcN48DdVStd2B9FwfYf0jZuDpDB19LMupmeNdXyyNaxqcE/nhy3YhSyYBbFfdbCKrd7AIz2Ux\n",
       "qYtob6Zx8pGXg9mt0dOpJuhqEXgxhXcXnoYz42aE1AgX+Xj1s8GvtHkHdDPso2JF+mFHYf+yf6iH\n",
       "ZAAU+x4qGLKsTyMU7K+Ap1U6+6IWkBf/657xDRB8JFUyYQYAgvMbLvjdeTJX2KQis1sKubTUG0Zj\n",
       "+T3qgRm1VyqqV1xgNKsA3Y/mozVDJBGF9i2hYtBTvymUo6qByqSoWAYDMkYSDay3Gk4LeCjTOa1x\n",
       "RmEBvdAufxn60mtW5+hqa9ipAtENXLOYQCSJZbgISJoiCziBZ6e9NvG7rr8Fnw385ir8h+ATfVzm\n",
       "YguZ5evJf9W8mKrX95rniEtvuxt1lS/2BLrmqfQWF6OZ0jRHYq3wt9sLU3l7zlAdoYtMyAXsmrNi\n",
       "8rNnfnL7Quu8iQ8DAWV29EdP1ujicvwLMjJ/cRB5yyJ5TylrycVEBdF/J+c7XsM0L5IiD95tNXja\n",
       "zuFAckicmYFIOGZjQ1SCVW0kHaekyfM1vD75JEMOjiG0A2vXv5a9BOjjuGUQ/t9kxftcr5CRQFc0\n",
       "S6bMKjjZYZIwgHAGnQcP1HGpQUrhgSPA/y5tryC1gxgTXxbZoDe6x96YMdnWnMo7Y2ddQxNYIIQc\n",
       "J7lpj/MBy5qYXx1OP9AgEjERbUXDX0iKr5ZbUBOADaV6iXqgFNGVF/k5pU1rMPcb/z+gky8JgTn/\n",
       "3t0JP7teDZM0/EztoWhNNfQMZsNm3IPxSxIoPnul8meOXLLDeJ1ol9ese7ltOGuNq1anrE66Lvl2\n",
       "CKeBSfy5+xanZqJCqUqEG7jnnvQWG7dwBFVGqe87tlni3jt9rlH5Lwq8hfLRueL/DrzOtw1RqW1k\n",
       "ZP6FiiO/oFBLB8H2v0Z7BrMORIjdU7NvdaA6UjGAagoL5SqWUb7QVs5rRYsB/6g/G5GF/W59Wyze\n",
       "DT62//OZEGLjlsYtiRD/LIgja05onIXZ+T2/o9Nc238ZguRTxEH+qrAResuXmQFfviyEGmhdPtIa\n",
       "tTNnYhagZp4rhZA8/g29MQlybGweigN0ldqK3n9E68ioWP1B0VIrhzrmLBCYa9mFIosyACvgJbZi\n",
       "mIRB3mXFSVkxnwJwFhGle3BAdb6WuXlHhstmFbDkewqB9A5OBVVxszSvCiFWkwSYs3YJMxRAAL+v\n",
       "KwWRn7FLvRDRAoG/ogVxdYWAuKN3m3M/emo862TVNl2IEE9nDoOqiHSAT9PYZRpPDDyaVtlYS48d\n",
       "g3JadjjMKGHQ1Ou/MhU0mMzt2XbHVqdACuXxqABm57pdcCLdYuS5w8/XszfCX8Xyr/I1CqPqcCJ3\n",
       "Xi/fboQ//R1V2fBOHALoNeZ04cgr6l0GVblL7wf+gc+kny9m+tF2tJuKLhKj7JstBO/FrlNaANY/\n",
       "mek4wXmzMX/gydBBUsRlDPj3Z9OiQUiteZX+G8m/6bzUwIIMczhVlDHwV6M5Lgw5FVgZEA0tKzRN\n",
       "V2Gv08eR0GcOIpDSPFSif82Aw2PTmUF4wnwMlvyY0U6IIB5ujWvjPzzimF15cXBn7QGk8s1h5aer\n",
       "YxG6G7PzbqKT4fOJkPCL5kzQaiIfqmjhu+oHz9rk+pndlo3VQ+UFvICeAgf0lc7LyrVdUWYkuYkW\n",
       "KXt+XnbP3xbKfmtWxVfMJZCfUYSJg7PEQt0btNa2X1tiOKkBPqz1yMBgrdVczCXOFmv5daphYLVf\n",
       "lXO0jFlMXt943I9l09MbFzXe7Rl8pHp81W7OU5OhcdLTAD1OJ0hWWOuib+Pm1+mAQs881kDoAzBm\n",
       "ZJlxHVHZ3Tq/BME1pD/x4ZLAdLK0OWUtTUspvi90QOjqEtBEwjh2/NjAbSIgJNo94I8kvTkRqs2z\n",
       "LqnulBIYISU0DZG4zPJ5pAZVYlDtYQofk57Bx8FCK+hSUSmpFYiRw8n/vjWD93Ri9H9dZV//eCNH\n",
       "5PeRr340FDMegh4XQABkpJTet5prO9dg7XfeyyVL9htRAjWH3nADyBpKjhsUrJoQBfwXHFgeT/vI\n",
       "DGYI9T+StSCo4cpvHRHB0nzWULePzuztx83e+RKngNlRoVw2ffnfJHlF9tQV1oN6BB/APWgzSn+b\n",
       "a9WqIPDZ/6SxdkehfY+wo1RMMpkJAToCvGA5zZlwFM4kG5ASvmrddKVXMu4Y5nOM1HVkIN/ipZZ/\n",
       "F6cvjmPLBdU/vq4l2GMZ7B6CNxds/Oh4BF2eiDzlM3zrVInZEHdlYVucQDYhPGA8qh/THvkeYHSf\n",
       "NUsWmagADvqtb11idPRV8npG4l9QtoskBZrRSYseAy/c+RjNFsNrJUap3YRCsm3sc48nDqDHCgI2\n",
       "LxYcZSuMPwfd+r0g4zhQYSeRh6ywhKMF8kVM02xS1UhY+2opDu/pWnLHdykBk1pcb3Yqg7R859Lt\n",
       "z1VqUCAE2D1OKQeEkcbnbj8BHHzlaL3jyw9lyAVORKiCImWlyxBKX068G/LYhdS1+g3GfyXjmEjX\n",
       "qNXgbchQ/4d/7Sss7/Lta8NtoFT5gcEFARcDEu+W3iW7Wv0vi5qB8dxQXVMGxlxHS+/HK6JUrDbk\n",
       "ZqfAFz5TPWoADnVrcer6FOw87Qqq3HWHWsZCuOkQ9jXB5V8qvWtcwR/vnhejWua7jjXMlWwBijaz\n",
       "iKaZ0jgPJIE2W3Qrf8XRSO3UYTMjVeVNPfh2Xs3Usj41qswfmXvgW0u4FQi98wqqjv6yEA3zjtx5\n",
       "zvQv1tcH8r9+QMaWPC5QZrCg5GFnBlYG/XtRhmBLYknTAn0ZyFNu1Kt7HoUffpWrfvTS7rv1ttoF\n",
       "9FKnPF5xKBzBy4wpsg9ZZl7o3Fn5B09ZrLuHoO89u3VjZ3qK4m6Ad/ic1S2ORIprZhOdcVOfcQM9\n",
       "DMNSPDfw5niyb+tXZe6SsmugL4xT6MvWxDZgV9j5AnDa+shokVj0qrcGPpeiuTuB74q+KTQgIdTR\n",
       "95DN3EGmvJqCW5x3l3EvSTHG6XnT+4zmi/oRGwncBRh/qWCANp69qjRCQg0O+IflAQWANmapwF6r\n",
       "d9P6PsdLNMlx48jHJdI/jsYEctRK7qMgaAOgdZXGT2c2NXTpgRnLpSHmoTPqNFIzI0MsBP3xAAZV\n",
       "v0It03xHLq0rbV4kflNOe8K+8zip+4oCHKzQa1A5rLdoeM32ae12gJAKQRtIanz9dU0GeuJE07dD\n",
       "utoYy69LqX04qhSdY7SjJ41lRT5VKhn7X1NsAgILSf3H7Jwo/Re4KIfTAelwWGUa5nVUChu9ZhEW\n",
       "m2K43yAcwn/+jIPyxeovVFh9IdrcP2MPvpltAvIqtFclrmjZDcrBDg0vh7T0Ez6fi9Mj738oZ75i\n",
       "klowvToNJzNgyxmx34+M8Tb+Jm1P7XZIv+/q+tiUYKvfBz4dusFAJAeyPxq5wbp65tORLBOUqWUL\n",
       "wgyZs8ZiLX/3ePyZRHFqnfAJYDaHhMYUy+7T/1tRWjEa+sPy4WObu4SNsZpzxBcGeQUEe7QO+Au3\n",
       "JOeP8xeZNuemwhlSUZoTh9SohxL+1IVOAlLFIXgRAz74Dsx6+p6eEsGKG6ZJNZIFo3I8WPyACuli\n",
       "iEZKgoWbeHUTqazy7tPeARyllnqkj1KKOka9m0EYmZJRTq//h8paEnVuq2/RlKV72Jrw53QeuNnq\n",
       "CQ0vckdfd5ke4ahPuZsjKhB3Ao5TysRGNeMGkTxlTDdi6EsqyTmZhU6ZLnFz67Y1ypfcDrYjk1ut\n",
       "eQEApLvbG+2U6zvqprlhgNTTTGJtnYgRbz1MgQSi7TvJ0iSvqQfpiSfmFS0ZnuhyOaFm73qLQsof\n",
       "iqUkSUVdZhxSfo9+/O/SJPI8tRY+KVIOfPyl617ZFNf6xOqJjCepS/js8fM0hLx9dcJNO89xnyN+\n",
       "7yX//UPrMUvJjAcDwtEkatiz2MDFmRbLrXoAFC5PC+nxsgprdrS9nG8aUL9IC265lFGECKzD0viW\n",
       "C7F0CQAmxzSCTLWYmY73UO0ru0SemWYoIVULJJZGhjPxmkRtOWXRKlaOtmT9zPUL4h4RbtWrDzgq\n",
       "6dACCT0GeiQAeeB7I/tz/F5PsU7PJuSi3dodN+nsgCt43nAjWuDxvCgHd/uBv+VuT5wnPRhP00eV\n",
       "jTMFCrRyKPrvKz5Tgbd7YJcZ9x0yRuSfE+bc+s7k++FeyflPmoDJLC//TeTw0+2KF9/lt8puXura\n",
       "W0A5r1eYzCi8tg1sx5TxTa2uN4LrAB61xqSBJn7TCZ18vXsc/F5deXim44yaAAI65m6fxaOZ/LN/\n",
       "FFuz3sbl58doLA8AmFQ3W/68xB828FRArTUxN/GKf1egiZp5nEQOPl0Y90XPLVpuAb7CisVvG+bR\n",
       "0PbtRUwANRvTOAPQWoOb8aXaWDHEqgUVsqXgBtICF7mwHjpEooue8Rg3sBwl1dX5R8gb2vnC6kMR\n",
       "3HUQSkPGPxci0zvZoNy2p4v2nRPyleQLMA+WN+4t1h0MSAZHhJuKufps7sJ1I7s824mhXxys/FUw\n",
       "XYZInkqOI5PJQYSJYrbrRQBA1KR/4luxUkn1CKHJuSV5ffz1lxDx2H84o6pL+/lRMEXq9OjfYDjf\n",
       "2w6XdnnJjrdUxmZ9BOQHLmchFQO3/BfieE9BFUVSKGisokXXsuCamedWVrqAOgXAHWPPuax6v+yE\n",
       "nV3KtRE7W1hWdYD7FgjGzG4LFffT17wmh/NSEJMRK7cref9nSRLJCmyHk5GVtYVHznBj0BADE/dF\n",
       "42V1U+rcB1Wsw76gwk+kfMw5nbFbKeiMEvMetTH/pFCblgy7bk4CsaWb8qmz9Wipy4vlYqSj8wS8\n",
       "wAS/660k68KSqk4htbaBCFxRNq1Wl/BxLQDdzOo5mC/glGeDrZWunASPWIrR4CpJxg7ZbHggc7ZY\n",
       "ZW01j6/wyNdVRG1NXdrkZS/oux808KDFT/vMxUvX7QFsmkIvF6wKlOrXIKjPqbnBoFge/+f547/K\n",
       "pctwEPlnIwh7aCB/u+1wRQ71HMcS0ZjFr/zb1b2nwpuyyN4Nezygj9Mo22rQGV0m+/XkYjJxuOTn\n",
       "5gMpB9WjwX9U5VRTPti2p5lO24u7+7rsq8TtaebihwTx9Q+nAbQfOy1G1wr3QXbo3biD5VPNWX/v\n",
       "Ap92Mv1UV+GEj9GgXDI8u7EgVQ60fGP4g37wXKR72cPN+3QxwnmmiRoMW4zesCvfxsJ3nDcXuSow\n",
       "IawdJpOuZNfMmI56q7MXygaIsc6jBphId7rzVL3g34uqNJeHpu5RF63AVUqLHCdRgwEvgGSTnhCK\n",
       "Y2IshVpwlN1EO1WdsnKdVNq1v0UOEHYQn+yJQjNv0s1wny0sszXkO84YI5Yri/mNtyYcLHm+ifDa\n",
       "mjPEQ/Sgoiol3ULi3vWpZsx5TsSnWQYXDXurGyNZNNpL/wmdSPOtIqxAAB7XneH8iHR0iS06AAAH\n",
       "9QAAAsxBmiRsQv/+jLABvvW8PfUCS06p6Bw6EvhovluMvAGPn9CJAvZaP6r/iGpdiQhROId7FMh8\n",
       "1xdZIDh93uhzqM6KJFBg7Tok43AZIfN4Bcq+ly6ry40Pih1K11ES+9tOZF/UrVOJROJqxi30OnR1\n",
       "MnqZP9couApKfJQXS2FzbXrY+guCttt8et8NxBjZLsRvG7DmOXu16rcAPkq3nYPJS46ShzkvUJkt\n",
       "toPSdz/O7h/+1tqAEp1QeT5GmeEfqKrq75e9lW/IB069/IsHIyu073jW3h9XfvUqUpjFmqnC+Wmd\n",
       "ovMIvthAJDuCs0YO82+O28fM553Uqy41HS1AvfI4ERVor0x50dgEMCVBdjby6s68YEVhqvmHOg1U\n",
       "yftFe1IBDNFU287b1a+gHxW0gwTps1eFSW9cIVgEp+f0qFE03XYkFVe6n9XwxD33B3M8AhqZgVTb\n",
       "8W0Q64eyRM6AlQurdIFlQLyMe/DwB/Wi03g9sct6ptqJdu9gQNpDT8DbC+ebBneJuijiOJ7Mf7sS\n",
       "Hxl0y2Bw/VIfafTNOacUM8WbZTrudC5gu3hOgvxFlqBF16k2p4EqpaZ+9qeT7g6G7RPke0Nt2bkI\n",
       "Dq9Z/8GD2VMK3xR9HBOA4qBzfa/38s"
      ],
      "text/plain": [
       "<matplotlib.animation.FuncAnimation at 0x7f8458f52cd0>"
      ]
     },
     "execution_count": 11,
     "metadata": {},
     "output_type": "execute_result"
    },
    {
     "data": {
      "text/html": [
       "<b>limit_output extension: Maximum message size of 10000 exceeded with 60314 characters</b>"
      ]
     },
     "metadata": {},
     "output_type": "display_data"
    }
   ],
   "source": [
    "anim"
   ]
  },
  {
   "cell_type": "code",
   "execution_count": null,
   "metadata": {
    "collapsed": true,
    "run_control": {
     "frozen": false,
     "read_only": false
    }
   },
   "outputs": [],
   "source": []
  }
 ],
 "metadata": {
  "hide_input": false,
  "kernelspec": {
   "display_name": "Python 2",
   "language": "python",
   "name": "python2"
  },
  "language_info": {
   "codemirror_mode": {
    "name": "ipython",
    "version": 2
   },
   "file_extension": ".py",
   "mimetype": "text/x-python",
   "name": "python",
   "nbconvert_exporter": "python",
   "pygments_lexer": "ipython2",
   "version": "2.7.12+"
  },
  "latex_envs": {
   "LaTeX_envs_menu_present": true,
   "bibliofile": "biblio.bib",
   "cite_by": "apalike",
   "current_citInitial": 1,
   "eqLabelWithNumbers": true,
   "eqNumInitial": 1,
   "labels_anchors": false,
   "latex_user_defs": false,
   "report_style_numbering": false,
   "user_envs_cfg": false
  },
  "toc": {
   "colors": {
    "hover_highlight": "#DAA520",
    "running_highlight": "#FF0000",
    "selected_highlight": "#FFD700"
   },
   "moveMenuLeft": true,
   "nav_menu": {
    "height": "12px",
    "width": "252px"
   },
   "navigate_menu": true,
   "number_sections": true,
   "sideBar": true,
   "threshold": 4,
   "toc_cell": false,
   "toc_section_display": "block",
   "toc_window_display": false
  }
 },
 "nbformat": 4,
 "nbformat_minor": 2
}
