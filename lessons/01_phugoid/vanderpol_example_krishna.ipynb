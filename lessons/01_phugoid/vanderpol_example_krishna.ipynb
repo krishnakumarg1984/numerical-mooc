{
 "cells": [
  {
   "cell_type": "code",
   "execution_count": 21,
   "metadata": {
    "collapsed": false
   },
   "outputs": [],
   "source": [
    "%matplotlib inline\n",
    "from casadi import *\n",
    "import numpy\n",
    "from pylab import *"
   ]
  },
  {
   "cell_type": "code",
   "execution_count": 2,
   "metadata": {
    "collapsed": true
   },
   "outputs": [],
   "source": [
    "u = SX.sym('u')"
   ]
  },
  {
   "cell_type": "code",
   "execution_count": 3,
   "metadata": {
    "collapsed": true
   },
   "outputs": [],
   "source": [
    "x = SX.sym('x')"
   ]
  },
  {
   "cell_type": "code",
   "execution_count": 4,
   "metadata": {
    "collapsed": true
   },
   "outputs": [],
   "source": [
    "y = SX.sym('y')"
   ]
  },
  {
   "cell_type": "code",
   "execution_count": 5,
   "metadata": {
    "collapsed": true
   },
   "outputs": [],
   "source": [
    "ode = vertcat((1-y*y)*x - y + u,x)"
   ]
  },
  {
   "cell_type": "code",
   "execution_count": 6,
   "metadata": {
    "collapsed": true
   },
   "outputs": [],
   "source": [
    "dae = {'x':vertcat(x,y),'p' :u,'ode':ode}"
   ]
  },
  {
   "cell_type": "code",
   "execution_count": 7,
   "metadata": {
    "collapsed": true
   },
   "outputs": [],
   "source": [
    "opts = {}\n",
    "opts[\"fsens_err_con\"] = True\n",
    "opts[\"quad_err_con\"] = True\n",
    "opts[\"abstol\"] = 1e-6\n",
    "opts[\"reltol\"] = 1e-6\n",
    "tend = 10\n",
    "opts[\"t0\"] = 0\n",
    "opts[\"tf\"] = tend"
   ]
  },
  {
   "cell_type": "code",
   "execution_count": 14,
   "metadata": {
    "collapsed": true
   },
   "outputs": [],
   "source": [
    "ts = numpy.linspace(0,tend,100)"
   ]
  },
  {
   "cell_type": "code",
   "execution_count": 29,
   "metadata": {
    "collapsed": true
   },
   "outputs": [],
   "source": [
    "opts[\"grid\"] = ts\n",
    "opts[\"output_t0\"] = True"
   ]
  },
  {
   "cell_type": "code",
   "execution_count": 30,
   "metadata": {
    "collapsed": true
   },
   "outputs": [],
   "source": [
    "F = integrator(\"F\",\"cvodes\",dae,opts)"
   ]
  },
  {
   "cell_type": "code",
   "execution_count": 31,
   "metadata": {
    "collapsed": false
   },
   "outputs": [
    {
     "name": "stdout",
     "output_type": "stream",
     "text": [
      "6 6\n"
     ]
    }
   ],
   "source": [
    "print \"%d %d\" %(F.n_in(),F.n_out())"
   ]
  },
  {
   "cell_type": "code",
   "execution_count": 32,
   "metadata": {
    "collapsed": true
   },
   "outputs": [],
   "source": [
    "x0 = 0; y0 =1 "
   ]
  },
  {
   "cell_type": "code",
   "execution_count": 33,
   "metadata": {
    "collapsed": true
   },
   "outputs": [],
   "source": [
    "sol = F(x0 = [x0,y0],p=0)"
   ]
  },
  {
   "cell_type": "code",
   "execution_count": 34,
   "metadata": {
    "collapsed": true
   },
   "outputs": [],
   "source": [
    "sol = sol['xf'].full().T"
   ]
  },
  {
   "cell_type": "code",
   "execution_count": 22,
   "metadata": {
    "collapsed": false
   },
   "outputs": [
    {
     "data": {
      "text/plain": [
       "<matplotlib.figure.Figure at 0x7f2b24b5a250>"
      ]
     },
     "execution_count": 22,
     "metadata": {},
     "output_type": "execute_result"
    },
    {
     "data": {
      "text/plain": [
       "<matplotlib.figure.Figure at 0x7f2b24b5a250>"
      ]
     },
     "metadata": {},
     "output_type": "display_data"
    }
   ],
   "source": [
    "figure()"
   ]
  },
  {
   "cell_type": "code",
   "execution_count": 35,
   "metadata": {
    "collapsed": false
   },
   "outputs": [
    {
     "data": {
      "text/plain": [
       "[<matplotlib.lines.Line2D at 0x7f2b1c753650>]"
      ]
     },
     "execution_count": 35,
     "metadata": {},
     "output_type": "execute_result"
    },
    {
     "data": {
      "image/png": "[encoded data removed]",
      "text/plain": [
       "<matplotlib.figure.Figure at 0x7f2b1c80f050>"
      ]
     },
     "metadata": {},
     "output_type": "display_data"
    }
   ],
   "source": [
    "plot(sol[:,0],sol[:,1])"
   ]
  },
  {
   "cell_type": "code",
   "execution_count": 36,
   "metadata": {
    "collapsed": false
   },
   "outputs": [
    {
     "name": "stdout",
     "output_type": "stream",
     "text": [
      "[[ 0.          1.        ]\n",
      " [-0.10086335  0.99490208]\n",
      " [-0.20106346  0.97964651]\n",
      " [-0.30046733  0.95431079]\n",
      " [-0.39949528  0.91895889]\n",
      " [-0.49902794  0.87358735]\n",
      " [-0.60032993  0.81808456]\n",
      " [-0.70497271  0.75219512]\n",
      " [-0.81474893  0.67549238]\n",
      " [-0.93156143  0.58736207]\n",
      " [-1.05724107  0.48699955]\n",
      " [-1.19323047  0.37343154]\n",
      " [-1.34004707  0.24557816]\n",
      " [-1.49635566  0.10239358]\n",
      " [-1.65764687 -0.05688644]\n",
      " [-1.81450254 -0.23233862]\n",
      " [-1.9509591  -0.42276897]\n",
      " [-2.04418503 -0.62501702]\n",
      " [-2.06737109 -0.83337222]\n",
      " [-1.9973718  -1.03951547]\n",
      " [-1.82529146 -1.23342174]\n",
      " [-1.56411809 -1.40524127]\n",
      " [-1.24664237 -1.54750257]\n",
      " [-0.91356049 -1.65657045]\n",
      " [-0.59954357 -1.73271696]\n",
      " [-0.32542916 -1.7790476 ]\n",
      " [-0.09822269 -1.80004833]\n",
      " [ 0.08453998 -1.80039112]\n",
      " [ 0.22994745 -1.78422853]\n",
      " [ 0.34630979 -1.75491446]\n",
      " [ 0.44136849 -1.71498289]\n",
      " [ 0.52163544 -1.66624655]\n",
      " [ 0.59233842 -1.60992573]\n",
      " [ 0.65762374 -1.54676743]\n",
      " [ 0.72083836 -1.47714417]\n",
      " [ 0.78479562 -1.40111984]\n",
      " [ 0.85200419 -1.31849099]\n",
      " [ 0.92485987 -1.22880803]\n",
      " [ 1.00580116 -1.13137837]\n",
      " [ 1.09742733 -1.02525582]\n",
      " [ 1.202565   -0.90922045]\n",
      " [ 1.32424262 -0.78175594]\n",
      " [ 1.4654829  -0.64103769]\n",
      " [ 1.62877756 -0.48495531]\n",
      " [ 1.8149036  -0.3112207 ]\n",
      " [ 2.02080382 -0.11763794]\n",
      " [ 2.23613198  0.09734644]\n",
      " [ 2.43879295  0.33368705]\n",
      " [ 2.59153308  0.58835757]\n",
      " [ 2.6446453   0.85387043]\n",
      " [ 2.55094998  1.11765693]\n",
      " [ 2.29159609  1.36358539]\n",
      " [ 1.89556774  1.57596308]\n",
      " [ 1.43160149  1.74423778]\n",
      " [ 0.97510454  1.86545621]\n",
      " [ 0.57800223  1.94326239]\n",
      " [ 0.26029475  1.98491932]\n",
      " [ 0.01884432  1.99842514]\n",
      " [-0.16016155  1.99083008]\n",
      " [-0.29253142  1.96763699]\n",
      " [-0.39204429  1.93283568]\n",
      " [-0.46936666  1.88917977]\n",
      " [-0.53229058  1.8384959 ]\n",
      " [-0.58640188  1.7819407 ]\n",
      " [-0.63571023  1.72019094]\n",
      " [-0.68317395  1.65357538]\n",
      " [-0.73109124  1.58216003]\n",
      " [-0.78138155  1.50579989]\n",
      " [-0.83579396  1.42416617]\n",
      " [-0.89606371  1.33675499]\n",
      " [-0.96404     1.24288293]\n",
      " [-1.04178742  1.1416698 ]\n",
      " [-1.13166249  1.03201233]\n",
      " [-1.23634787  0.91255261]\n",
      " [-1.35879555  0.78164747]\n",
      " [-1.50199076  0.63735013]\n",
      " [-1.66832058  0.47743534]\n",
      " [-1.8583132   0.29951671]\n",
      " [-2.06829554  0.1013409 ]\n",
      " [-2.28665486 -0.11861072]\n",
      " [-2.48913066 -0.36008751]\n",
      " [-2.6355755  -0.61959287]\n",
      " [-2.67391774 -0.8888866 ]\n",
      " [-2.5574004  -1.1545329 ]\n",
      " [-2.27210816 -1.39979405]\n",
      " [-1.85466789 -1.60904985]\n",
      " [-1.37926082 -1.77252071]\n",
      " [-0.92167572 -1.88832139]\n",
      " [-0.53039353 -1.96098862]\n",
      " [-0.22135541 -1.99826615]\n",
      " [ 0.01139067 -2.00828792]\n",
      " [ 0.18296524 -1.99802744]\n",
      " [ 0.30951517 -1.97283811]\n",
      " [ 0.40467944 -1.93655209]\n",
      " [ 0.47883465 -1.89178859]\n",
      " [ 0.53948968 -1.84026937]\n",
      " [ 0.59198549 -1.7830733 ]\n",
      " [ 0.64015024 -1.72082072]\n",
      " [ 0.68681118 -1.65379971]\n",
      " [ 0.73417425 -1.58204679]]\n"
     ]
    }
   ],
   "source": [
    "print sol"
   ]
  },
  {
   "cell_type": "code",
   "execution_count": null,
   "metadata": {
    "collapsed": true
   },
   "outputs": [],
   "source": []
  }
 ],
 "metadata": {
  "kernelspec": {
   "display_name": "Python 2",
   "language": "python",
   "name": "python2"
  },
  "language_info": {
   "codemirror_mode": {
    "name": "ipython",
    "version": 2
   },
   "file_extension": ".py",
   "mimetype": "text/x-python",
   "name": "python",
   "nbconvert_exporter": "python",
   "pygments_lexer": "ipython2",
   "version": "2.7.12+"
  }
 },
 "nbformat": 4,
 "nbformat_minor": 2
}
